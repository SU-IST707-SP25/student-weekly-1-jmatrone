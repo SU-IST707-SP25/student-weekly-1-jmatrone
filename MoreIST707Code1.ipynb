{
  "nbformat": 4,
  "nbformat_minor": 0,
  "metadata": {
    "colab": {
      "provenance": [],
      "include_colab_link": true
    },
    "kernelspec": {
      "name": "python3",
      "display_name": "Python 3"
    },
    "language_info": {
      "name": "python"
    }
  },
  "cells": [
    {
      "cell_type": "markdown",
      "metadata": {
        "id": "view-in-github",
        "colab_type": "text"
      },
      "source": [
        "<a href=\"https://colab.research.google.com/github/SU-IST707-SP25/student-weekly-1-jmatrone/blob/master/MoreIST707Code1.ipynb\" target=\"_parent\"><img src=\"https://colab.research.google.com/assets/colab-badge.svg\" alt=\"Open In Colab\"/></a>"
      ]
    },
    {
      "cell_type": "code",
      "execution_count": null,
      "metadata": {
        "colab": {
          "base_uri": "https://localhost:8080/"
        },
        "id": "gvqFhf8SfIkD",
        "outputId": "744b804b-afe2-4db8-da98-c151fab3ab86"
      },
      "outputs": [
        {
          "output_type": "stream",
          "name": "stdout",
          "text": [
            "Mounted at /content/drive\n"
          ]
        }
      ],
      "source": [
        "from google.colab import drive\n",
        "drive.mount('/content/drive')"
      ]
    },
    {
      "cell_type": "code",
      "source": [
        "file_path = '/content/drive/MyDrive/IST707_FinalProject/data/uncleaned_data.csv'"
      ],
      "metadata": {
        "id": "qC25QVXpfQBQ"
      },
      "execution_count": null,
      "outputs": []
    },
    {
      "cell_type": "code",
      "source": [
        "import os\n",
        "\n",
        "\n",
        "if os.path.isfile(file_path):\n",
        "    print(\"CSV file found\")\n",
        "else:\n",
        "    print(\"CSV file not found. Check the path.\")\n"
      ],
      "metadata": {
        "colab": {
          "base_uri": "https://localhost:8080/"
        },
        "id": "ZmyPEHJ3fTR7",
        "outputId": "7b7343fd-9a81-4097-ff17-ce2ca0122ab4"
      },
      "execution_count": null,
      "outputs": [
        {
          "output_type": "stream",
          "name": "stdout",
          "text": [
            "CSV file found\n"
          ]
        }
      ]
    },
    {
      "cell_type": "code",
      "source": [
        "import pandas as pd\n",
        "\n",
        "# Read the file using pandas\n",
        "data = pd.read_csv(file_path)\n",
        "\n",
        "# Display the first few rows of the data\n",
        "print(data.head())"
      ],
      "metadata": {
        "colab": {
          "base_uri": "https://localhost:8080/"
        },
        "id": "uwBNE5X8fgDp",
        "outputId": "451d63b2-8c81-4481-a1b9-a543abd6f5c2"
      },
      "execution_count": null,
      "outputs": [
        {
          "output_type": "stream",
          "name": "stdout",
          "text": [
            "   Unnamed: 0.1             name           club_x  \\\n",
            "0             0          Ederson  Manchester City   \n",
            "1             1       Rúben Dias  Manchester City   \n",
            "2             2  Aymeric Laporte  Manchester City   \n",
            "3             3      John Stones  Manchester City   \n",
            "4             4       Nathan Aké  Manchester City   \n",
            "\n",
            "                                            injuries  Unnamed: 0 nationality  \\\n",
            "0  [('20/21', 'Virus Infection', 'Dec 27, 2020', ...         689      br BRA   \n",
            "1  [('21/22', 'Knock', 'Mar 3, 2022', 'Apr 11, 20...         615      pt POR   \n",
            "2  [('22/23', 'Knee Surgery', 'Jun 30, 2022', 'Oc...        1232      es ESP   \n",
            "3  [('22/23', 'Hamstring Injury', 'Sep 26, 2022',...        2101     eng ENG   \n",
            "4  [('20/21', 'Hamstring Injury', 'Dec 27, 2020',...          37      nl NED   \n",
            "\n",
            "  position           club_y     age  birth_year  ...  touches_live_ball  \\\n",
            "0       GK  Manchester City  29-100        1993  ...              547.0   \n",
            "1       DF  Manchester City  25-195        1997  ...              972.0   \n",
            "2       DF  Manchester City  28-182        1994  ...              279.0   \n",
            "3       DF  Manchester City  28-181        1994  ...              686.0   \n",
            "4       DF  Manchester City  27-280        1995  ...              648.0   \n",
            "\n",
            "   dribbles  miscontrols  dispossessed  passes_received  fouls  fouled  \\\n",
            "0       0.0          0.0           0.0            345.0    0.0     2.0   \n",
            "1       3.0          0.0           0.0            762.0   10.0     3.0   \n",
            "2       2.0          1.0           0.0            216.0    0.0     2.0   \n",
            "3       5.0          3.0           1.0            541.0    3.0     3.0   \n",
            "4       0.0          3.0           0.0            538.0    2.0     4.0   \n",
            "\n",
            "   ball_recoveries  aerials_won  aerials_lost,  \n",
            "0             19.0          3.0           0.0,  \n",
            "1             41.0         26.0          13.0,  \n",
            "2             11.0         11.0           4.0,  \n",
            "3             37.0         10.0           6.0,  \n",
            "4             24.0         13.0          10.0,  \n",
            "\n",
            "[5 rows x 52 columns]\n"
          ]
        }
      ]
    },
    {
      "cell_type": "code",
      "source": [
        "import pandas as pd\n",
        "\n",
        "\n",
        "ratings_data = pd.read_csv('/content/drive/MyDrive/IST707_FinalProject/data/final_ratings.csv')\n",
        "ratings_data.head()"
      ],
      "metadata": {
        "colab": {
          "base_uri": "https://localhost:8080/",
          "height": 241
        },
        "id": "UjVKsCUWf3Hw",
        "outputId": "d994070c-3ed9-4971-c340-5db20d61f9fd"
      },
      "execution_count": null,
      "outputs": [
        {
          "output_type": "execute_result",
          "data": {
            "text/plain": [
              "   FC 25  FC 24             Name  FIFA 23  FIFA 22  FIFA 21  FIFA 20  FIFA 19  \\\n",
              "0   80.0   77.0          ederson      NaN      NaN      NaN      NaN      NaN   \n",
              "1   88.0   89.0       rúben-dias     88.0     87.0     81.0     80.0     78.0   \n",
              "2   83.0   85.0  aymeric-laporte      NaN      NaN      NaN      NaN      NaN   \n",
              "3   85.0   85.0      john-stones      NaN      NaN      NaN      NaN      NaN   \n",
              "4   84.0   81.0       nathan-aké      NaN      NaN      NaN      NaN      NaN   \n",
              "\n",
              "   FIFA 18  FIFA 17  FIFA 16  FIFA 15  FIFA 14/25  FIFA 13  FIFA 12  FIFA 11  \\\n",
              "0      NaN      NaN      NaN      NaN         NaN      NaN      NaN      NaN   \n",
              "1     68.0      NaN      NaN      NaN         NaN      NaN      NaN      NaN   \n",
              "2      NaN      NaN      NaN      NaN         NaN      NaN      NaN      NaN   \n",
              "3      NaN      NaN      NaN      NaN         NaN      NaN      NaN      NaN   \n",
              "4      NaN      NaN      NaN      NaN         NaN      NaN      NaN      NaN   \n",
              "\n",
              "   FIFA 10  FIFA 09  FIFA 08  FIFA 07  \n",
              "0      NaN      NaN      NaN      NaN  \n",
              "1      NaN      NaN      NaN      NaN  \n",
              "2      NaN      NaN      NaN      NaN  \n",
              "3      NaN      NaN      NaN      NaN  \n",
              "4      NaN      NaN      NaN      NaN  "
            ],
            "text/html": [
              "\n",
              "  <div id=\"df-2cffceec-0e6a-42f1-ac46-f7c2d5eef45c\" class=\"colab-df-container\">\n",
              "    <div>\n",
              "<style scoped>\n",
              "    .dataframe tbody tr th:only-of-type {\n",
              "        vertical-align: middle;\n",
              "    }\n",
              "\n",
              "    .dataframe tbody tr th {\n",
              "        vertical-align: top;\n",
              "    }\n",
              "\n",
              "    .dataframe thead th {\n",
              "        text-align: right;\n",
              "    }\n",
              "</style>\n",
              "<table border=\"1\" class=\"dataframe\">\n",
              "  <thead>\n",
              "    <tr style=\"text-align: right;\">\n",
              "      <th></th>\n",
              "      <th>FC 25</th>\n",
              "      <th>FC 24</th>\n",
              "      <th>Name</th>\n",
              "      <th>FIFA 23</th>\n",
              "      <th>FIFA 22</th>\n",
              "      <th>FIFA 21</th>\n",
              "      <th>FIFA 20</th>\n",
              "      <th>FIFA 19</th>\n",
              "      <th>FIFA 18</th>\n",
              "      <th>FIFA 17</th>\n",
              "      <th>FIFA 16</th>\n",
              "      <th>FIFA 15</th>\n",
              "      <th>FIFA 14/25</th>\n",
              "      <th>FIFA 13</th>\n",
              "      <th>FIFA 12</th>\n",
              "      <th>FIFA 11</th>\n",
              "      <th>FIFA 10</th>\n",
              "      <th>FIFA 09</th>\n",
              "      <th>FIFA 08</th>\n",
              "      <th>FIFA 07</th>\n",
              "    </tr>\n",
              "  </thead>\n",
              "  <tbody>\n",
              "    <tr>\n",
              "      <th>0</th>\n",
              "      <td>80.0</td>\n",
              "      <td>77.0</td>\n",
              "      <td>ederson</td>\n",
              "      <td>NaN</td>\n",
              "      <td>NaN</td>\n",
              "      <td>NaN</td>\n",
              "      <td>NaN</td>\n",
              "      <td>NaN</td>\n",
              "      <td>NaN</td>\n",
              "      <td>NaN</td>\n",
              "      <td>NaN</td>\n",
              "      <td>NaN</td>\n",
              "      <td>NaN</td>\n",
              "      <td>NaN</td>\n",
              "      <td>NaN</td>\n",
              "      <td>NaN</td>\n",
              "      <td>NaN</td>\n",
              "      <td>NaN</td>\n",
              "      <td>NaN</td>\n",
              "      <td>NaN</td>\n",
              "    </tr>\n",
              "    <tr>\n",
              "      <th>1</th>\n",
              "      <td>88.0</td>\n",
              "      <td>89.0</td>\n",
              "      <td>rúben-dias</td>\n",
              "      <td>88.0</td>\n",
              "      <td>87.0</td>\n",
              "      <td>81.0</td>\n",
              "      <td>80.0</td>\n",
              "      <td>78.0</td>\n",
              "      <td>68.0</td>\n",
              "      <td>NaN</td>\n",
              "      <td>NaN</td>\n",
              "      <td>NaN</td>\n",
              "      <td>NaN</td>\n",
              "      <td>NaN</td>\n",
              "      <td>NaN</td>\n",
              "      <td>NaN</td>\n",
              "      <td>NaN</td>\n",
              "      <td>NaN</td>\n",
              "      <td>NaN</td>\n",
              "      <td>NaN</td>\n",
              "    </tr>\n",
              "    <tr>\n",
              "      <th>2</th>\n",
              "      <td>83.0</td>\n",
              "      <td>85.0</td>\n",
              "      <td>aymeric-laporte</td>\n",
              "      <td>NaN</td>\n",
              "      <td>NaN</td>\n",
              "      <td>NaN</td>\n",
              "      <td>NaN</td>\n",
              "      <td>NaN</td>\n",
              "      <td>NaN</td>\n",
              "      <td>NaN</td>\n",
              "      <td>NaN</td>\n",
              "      <td>NaN</td>\n",
              "      <td>NaN</td>\n",
              "      <td>NaN</td>\n",
              "      <td>NaN</td>\n",
              "      <td>NaN</td>\n",
              "      <td>NaN</td>\n",
              "      <td>NaN</td>\n",
              "      <td>NaN</td>\n",
              "      <td>NaN</td>\n",
              "    </tr>\n",
              "    <tr>\n",
              "      <th>3</th>\n",
              "      <td>85.0</td>\n",
              "      <td>85.0</td>\n",
              "      <td>john-stones</td>\n",
              "      <td>NaN</td>\n",
              "      <td>NaN</td>\n",
              "      <td>NaN</td>\n",
              "      <td>NaN</td>\n",
              "      <td>NaN</td>\n",
              "      <td>NaN</td>\n",
              "      <td>NaN</td>\n",
              "      <td>NaN</td>\n",
              "      <td>NaN</td>\n",
              "      <td>NaN</td>\n",
              "      <td>NaN</td>\n",
              "      <td>NaN</td>\n",
              "      <td>NaN</td>\n",
              "      <td>NaN</td>\n",
              "      <td>NaN</td>\n",
              "      <td>NaN</td>\n",
              "      <td>NaN</td>\n",
              "    </tr>\n",
              "    <tr>\n",
              "      <th>4</th>\n",
              "      <td>84.0</td>\n",
              "      <td>81.0</td>\n",
              "      <td>nathan-aké</td>\n",
              "      <td>NaN</td>\n",
              "      <td>NaN</td>\n",
              "      <td>NaN</td>\n",
              "      <td>NaN</td>\n",
              "      <td>NaN</td>\n",
              "      <td>NaN</td>\n",
              "      <td>NaN</td>\n",
              "      <td>NaN</td>\n",
              "      <td>NaN</td>\n",
              "      <td>NaN</td>\n",
              "      <td>NaN</td>\n",
              "      <td>NaN</td>\n",
              "      <td>NaN</td>\n",
              "      <td>NaN</td>\n",
              "      <td>NaN</td>\n",
              "      <td>NaN</td>\n",
              "      <td>NaN</td>\n",
              "    </tr>\n",
              "  </tbody>\n",
              "</table>\n",
              "</div>\n",
              "    <div class=\"colab-df-buttons\">\n",
              "\n",
              "  <div class=\"colab-df-container\">\n",
              "    <button class=\"colab-df-convert\" onclick=\"convertToInteractive('df-2cffceec-0e6a-42f1-ac46-f7c2d5eef45c')\"\n",
              "            title=\"Convert this dataframe to an interactive table.\"\n",
              "            style=\"display:none;\">\n",
              "\n",
              "  <svg xmlns=\"http://www.w3.org/2000/svg\" height=\"24px\" viewBox=\"0 -960 960 960\">\n",
              "    <path d=\"M120-120v-720h720v720H120Zm60-500h600v-160H180v160Zm220 220h160v-160H400v160Zm0 220h160v-160H400v160ZM180-400h160v-160H180v160Zm440 0h160v-160H620v160ZM180-180h160v-160H180v160Zm440 0h160v-160H620v160Z\"/>\n",
              "  </svg>\n",
              "    </button>\n",
              "\n",
              "  <style>\n",
              "    .colab-df-container {\n",
              "      display:flex;\n",
              "      gap: 12px;\n",
              "    }\n",
              "\n",
              "    .colab-df-convert {\n",
              "      background-color: #E8F0FE;\n",
              "      border: none;\n",
              "      border-radius: 50%;\n",
              "      cursor: pointer;\n",
              "      display: none;\n",
              "      fill: #1967D2;\n",
              "      height: 32px;\n",
              "      padding: 0 0 0 0;\n",
              "      width: 32px;\n",
              "    }\n",
              "\n",
              "    .colab-df-convert:hover {\n",
              "      background-color: #E2EBFA;\n",
              "      box-shadow: 0px 1px 2px rgba(60, 64, 67, 0.3), 0px 1px 3px 1px rgba(60, 64, 67, 0.15);\n",
              "      fill: #174EA6;\n",
              "    }\n",
              "\n",
              "    .colab-df-buttons div {\n",
              "      margin-bottom: 4px;\n",
              "    }\n",
              "\n",
              "    [theme=dark] .colab-df-convert {\n",
              "      background-color: #3B4455;\n",
              "      fill: #D2E3FC;\n",
              "    }\n",
              "\n",
              "    [theme=dark] .colab-df-convert:hover {\n",
              "      background-color: #434B5C;\n",
              "      box-shadow: 0px 1px 3px 1px rgba(0, 0, 0, 0.15);\n",
              "      filter: drop-shadow(0px 1px 2px rgba(0, 0, 0, 0.3));\n",
              "      fill: #FFFFFF;\n",
              "    }\n",
              "  </style>\n",
              "\n",
              "    <script>\n",
              "      const buttonEl =\n",
              "        document.querySelector('#df-2cffceec-0e6a-42f1-ac46-f7c2d5eef45c button.colab-df-convert');\n",
              "      buttonEl.style.display =\n",
              "        google.colab.kernel.accessAllowed ? 'block' : 'none';\n",
              "\n",
              "      async function convertToInteractive(key) {\n",
              "        const element = document.querySelector('#df-2cffceec-0e6a-42f1-ac46-f7c2d5eef45c');\n",
              "        const dataTable =\n",
              "          await google.colab.kernel.invokeFunction('convertToInteractive',\n",
              "                                                    [key], {});\n",
              "        if (!dataTable) return;\n",
              "\n",
              "        const docLinkHtml = 'Like what you see? Visit the ' +\n",
              "          '<a target=\"_blank\" href=https://colab.research.google.com/notebooks/data_table.ipynb>data table notebook</a>'\n",
              "          + ' to learn more about interactive tables.';\n",
              "        element.innerHTML = '';\n",
              "        dataTable['output_type'] = 'display_data';\n",
              "        await google.colab.output.renderOutput(dataTable, element);\n",
              "        const docLink = document.createElement('div');\n",
              "        docLink.innerHTML = docLinkHtml;\n",
              "        element.appendChild(docLink);\n",
              "      }\n",
              "    </script>\n",
              "  </div>\n",
              "\n",
              "\n",
              "    <div id=\"df-441826cb-d8d4-492f-952c-c76b7c5ae3b7\">\n",
              "      <button class=\"colab-df-quickchart\" onclick=\"quickchart('df-441826cb-d8d4-492f-952c-c76b7c5ae3b7')\"\n",
              "                title=\"Suggest charts\"\n",
              "                style=\"display:none;\">\n",
              "\n",
              "<svg xmlns=\"http://www.w3.org/2000/svg\" height=\"24px\"viewBox=\"0 0 24 24\"\n",
              "     width=\"24px\">\n",
              "    <g>\n",
              "        <path d=\"M19 3H5c-1.1 0-2 .9-2 2v14c0 1.1.9 2 2 2h14c1.1 0 2-.9 2-2V5c0-1.1-.9-2-2-2zM9 17H7v-7h2v7zm4 0h-2V7h2v10zm4 0h-2v-4h2v4z\"/>\n",
              "    </g>\n",
              "</svg>\n",
              "      </button>\n",
              "\n",
              "<style>\n",
              "  .colab-df-quickchart {\n",
              "      --bg-color: #E8F0FE;\n",
              "      --fill-color: #1967D2;\n",
              "      --hover-bg-color: #E2EBFA;\n",
              "      --hover-fill-color: #174EA6;\n",
              "      --disabled-fill-color: #AAA;\n",
              "      --disabled-bg-color: #DDD;\n",
              "  }\n",
              "\n",
              "  [theme=dark] .colab-df-quickchart {\n",
              "      --bg-color: #3B4455;\n",
              "      --fill-color: #D2E3FC;\n",
              "      --hover-bg-color: #434B5C;\n",
              "      --hover-fill-color: #FFFFFF;\n",
              "      --disabled-bg-color: #3B4455;\n",
              "      --disabled-fill-color: #666;\n",
              "  }\n",
              "\n",
              "  .colab-df-quickchart {\n",
              "    background-color: var(--bg-color);\n",
              "    border: none;\n",
              "    border-radius: 50%;\n",
              "    cursor: pointer;\n",
              "    display: none;\n",
              "    fill: var(--fill-color);\n",
              "    height: 32px;\n",
              "    padding: 0;\n",
              "    width: 32px;\n",
              "  }\n",
              "\n",
              "  .colab-df-quickchart:hover {\n",
              "    background-color: var(--hover-bg-color);\n",
              "    box-shadow: 0 1px 2px rgba(60, 64, 67, 0.3), 0 1px 3px 1px rgba(60, 64, 67, 0.15);\n",
              "    fill: var(--button-hover-fill-color);\n",
              "  }\n",
              "\n",
              "  .colab-df-quickchart-complete:disabled,\n",
              "  .colab-df-quickchart-complete:disabled:hover {\n",
              "    background-color: var(--disabled-bg-color);\n",
              "    fill: var(--disabled-fill-color);\n",
              "    box-shadow: none;\n",
              "  }\n",
              "\n",
              "  .colab-df-spinner {\n",
              "    border: 2px solid var(--fill-color);\n",
              "    border-color: transparent;\n",
              "    border-bottom-color: var(--fill-color);\n",
              "    animation:\n",
              "      spin 1s steps(1) infinite;\n",
              "  }\n",
              "\n",
              "  @keyframes spin {\n",
              "    0% {\n",
              "      border-color: transparent;\n",
              "      border-bottom-color: var(--fill-color);\n",
              "      border-left-color: var(--fill-color);\n",
              "    }\n",
              "    20% {\n",
              "      border-color: transparent;\n",
              "      border-left-color: var(--fill-color);\n",
              "      border-top-color: var(--fill-color);\n",
              "    }\n",
              "    30% {\n",
              "      border-color: transparent;\n",
              "      border-left-color: var(--fill-color);\n",
              "      border-top-color: var(--fill-color);\n",
              "      border-right-color: var(--fill-color);\n",
              "    }\n",
              "    40% {\n",
              "      border-color: transparent;\n",
              "      border-right-color: var(--fill-color);\n",
              "      border-top-color: var(--fill-color);\n",
              "    }\n",
              "    60% {\n",
              "      border-color: transparent;\n",
              "      border-right-color: var(--fill-color);\n",
              "    }\n",
              "    80% {\n",
              "      border-color: transparent;\n",
              "      border-right-color: var(--fill-color);\n",
              "      border-bottom-color: var(--fill-color);\n",
              "    }\n",
              "    90% {\n",
              "      border-color: transparent;\n",
              "      border-bottom-color: var(--fill-color);\n",
              "    }\n",
              "  }\n",
              "</style>\n",
              "\n",
              "      <script>\n",
              "        async function quickchart(key) {\n",
              "          const quickchartButtonEl =\n",
              "            document.querySelector('#' + key + ' button');\n",
              "          quickchartButtonEl.disabled = true;  // To prevent multiple clicks.\n",
              "          quickchartButtonEl.classList.add('colab-df-spinner');\n",
              "          try {\n",
              "            const charts = await google.colab.kernel.invokeFunction(\n",
              "                'suggestCharts', [key], {});\n",
              "          } catch (error) {\n",
              "            console.error('Error during call to suggestCharts:', error);\n",
              "          }\n",
              "          quickchartButtonEl.classList.remove('colab-df-spinner');\n",
              "          quickchartButtonEl.classList.add('colab-df-quickchart-complete');\n",
              "        }\n",
              "        (() => {\n",
              "          let quickchartButtonEl =\n",
              "            document.querySelector('#df-441826cb-d8d4-492f-952c-c76b7c5ae3b7 button');\n",
              "          quickchartButtonEl.style.display =\n",
              "            google.colab.kernel.accessAllowed ? 'block' : 'none';\n",
              "        })();\n",
              "      </script>\n",
              "    </div>\n",
              "\n",
              "    </div>\n",
              "  </div>\n"
            ],
            "application/vnd.google.colaboratory.intrinsic+json": {
              "type": "dataframe",
              "variable_name": "ratings_data",
              "summary": "{\n  \"name\": \"ratings_data\",\n  \"rows\": 1924,\n  \"fields\": [\n    {\n      \"column\": \"FC 25\",\n      \"properties\": {\n        \"dtype\": \"number\",\n        \"std\": 5.1140664373089875,\n        \"min\": 55.0,\n        \"max\": 91.0,\n        \"num_unique_values\": 36,\n        \"samples\": [\n          58.0,\n          89.0,\n          60.0\n        ],\n        \"semantic_type\": \"\",\n        \"description\": \"\"\n      }\n    },\n    {\n      \"column\": \"FC 24\",\n      \"properties\": {\n        \"dtype\": \"number\",\n        \"std\": 5.121713636871985,\n        \"min\": 55.0,\n        \"max\": 91.0,\n        \"num_unique_values\": 36,\n        \"samples\": [\n          59.0,\n          80.0,\n          68.0\n        ],\n        \"semantic_type\": \"\",\n        \"description\": \"\"\n      }\n    },\n    {\n      \"column\": \"Name\",\n      \"properties\": {\n        \"dtype\": \"string\",\n        \"num_unique_values\": 1924,\n        \"samples\": [\n          \"\\u00e9derson\",\n          \"pau-torres\",\n          \"nordine-kandil\"\n        ],\n        \"semantic_type\": \"\",\n        \"description\": \"\"\n      }\n    },\n    {\n      \"column\": \"FIFA 23\",\n      \"properties\": {\n        \"dtype\": \"number\",\n        \"std\": 1.1254628677422756,\n        \"min\": 88.0,\n        \"max\": 91.0,\n        \"num_unique_values\": 4,\n        \"samples\": [\n          91.0,\n          89.0,\n          88.0\n        ],\n        \"semantic_type\": \"\",\n        \"description\": \"\"\n      }\n    },\n    {\n      \"column\": \"FIFA 22\",\n      \"properties\": {\n        \"dtype\": \"number\",\n        \"std\": 1.486446705914413,\n        \"min\": 87.0,\n        \"max\": 93.0,\n        \"num_unique_values\": 6,\n        \"samples\": [\n          87.0,\n          91.0,\n          93.0\n        ],\n        \"semantic_type\": \"\",\n        \"description\": \"\"\n      }\n    },\n    {\n      \"column\": \"FIFA 21\",\n      \"properties\": {\n        \"dtype\": \"number\",\n        \"std\": 3.0906926331133215,\n        \"min\": 81.0,\n        \"max\": 93.0,\n        \"num_unique_values\": 8,\n        \"samples\": [\n          91.0,\n          88.0,\n          81.0\n        ],\n        \"semantic_type\": \"\",\n        \"description\": \"\"\n      }\n    },\n    {\n      \"column\": \"FIFA 20\",\n      \"properties\": {\n        \"dtype\": \"number\",\n        \"std\": 5.1639777949432215,\n        \"min\": 73.0,\n        \"max\": 94.0,\n        \"num_unique_values\": 11,\n        \"samples\": [\n          89.0,\n          80.0,\n          88.0\n        ],\n        \"semantic_type\": \"\",\n        \"description\": \"\"\n      }\n    },\n    {\n      \"column\": \"FIFA 19\",\n      \"properties\": {\n        \"dtype\": \"number\",\n        \"std\": 6.943307843493893,\n        \"min\": 66.0,\n        \"max\": 94.0,\n        \"num_unique_values\": 12,\n        \"samples\": [\n          85.0,\n          90.0,\n          78.0\n        ],\n        \"semantic_type\": \"\",\n        \"description\": \"\"\n      }\n    },\n    {\n      \"column\": \"FIFA 18\",\n      \"properties\": {\n        \"dtype\": \"number\",\n        \"std\": 9.370673604897558,\n        \"min\": 58.0,\n        \"max\": 93.0,\n        \"num_unique_values\": 11,\n        \"samples\": [\n          86.0,\n          68.0,\n          81.0\n        ],\n        \"semantic_type\": \"\",\n        \"description\": \"\"\n      }\n    },\n    {\n      \"column\": \"FIFA 17\",\n      \"properties\": {\n        \"dtype\": \"number\",\n        \"std\": 9.61912015350014,\n        \"min\": 58.0,\n        \"max\": 93.0,\n        \"num_unique_values\": 12,\n        \"samples\": [\n          89.0,\n          78.0,\n          88.0\n        ],\n        \"semantic_type\": \"\",\n        \"description\": \"\"\n      }\n    },\n    {\n      \"column\": \"FIFA 16\",\n      \"properties\": {\n        \"dtype\": \"number\",\n        \"std\": 8.371196036225832,\n        \"min\": 65.0,\n        \"max\": 94.0,\n        \"num_unique_values\": 11,\n        \"samples\": [\n          88.0,\n          86.0,\n          70.0\n        ],\n        \"semantic_type\": \"\",\n        \"description\": \"\"\n      }\n    },\n    {\n      \"column\": \"FIFA 15\",\n      \"properties\": {\n        \"dtype\": \"number\",\n        \"std\": 9.170109546287279,\n        \"min\": 63.0,\n        \"max\": 93.0,\n        \"num_unique_values\": 9,\n        \"samples\": [\n          85.0,\n          76.0,\n          90.0\n        ],\n        \"semantic_type\": \"\",\n        \"description\": \"\"\n      }\n    },\n    {\n      \"column\": \"FIFA 14/25\",\n      \"properties\": {\n        \"dtype\": \"number\",\n        \"std\": 7.720823214600313,\n        \"min\": 67.0,\n        \"max\": 94.0,\n        \"num_unique_values\": 8,\n        \"samples\": [\n          74.0,\n          94.0,\n          80.0\n        ],\n        \"semantic_type\": \"\",\n        \"description\": \"\"\n      }\n    },\n    {\n      \"column\": \"FIFA 13\",\n      \"properties\": {\n        \"dtype\": \"number\",\n        \"std\": 8.743886753358346,\n        \"min\": 67.0,\n        \"max\": 94.0,\n        \"num_unique_values\": 9,\n        \"samples\": [\n          79.0,\n          70.0,\n          94.0\n        ],\n        \"semantic_type\": \"\",\n        \"description\": \"\"\n      }\n    },\n    {\n      \"column\": \"FIFA 12\",\n      \"properties\": {\n        \"dtype\": \"number\",\n        \"std\": 10.248306093095472,\n        \"min\": 62.0,\n        \"max\": 94.0,\n        \"num_unique_values\": 8,\n        \"samples\": [\n          74.0,\n          86.0,\n          75.0\n        ],\n        \"semantic_type\": \"\",\n        \"description\": \"\"\n      }\n    },\n    {\n      \"column\": \"FIFA 11\",\n      \"properties\": {\n        \"dtype\": \"number\",\n        \"std\": 11.322298549519195,\n        \"min\": 58.0,\n        \"max\": 90.0,\n        \"num_unique_values\": 9,\n        \"samples\": [\n          83.0,\n          69.0,\n          85.0\n        ],\n        \"semantic_type\": \"\",\n        \"description\": \"\"\n      }\n    },\n    {\n      \"column\": \"FIFA 10\",\n      \"properties\": {\n        \"dtype\": \"number\",\n        \"std\": 13.311649033834989,\n        \"min\": 57.0,\n        \"max\": 90.0,\n        \"num_unique_values\": 6,\n        \"samples\": [\n          62.0,\n          73.0,\n          85.0\n        ],\n        \"semantic_type\": \"\",\n        \"description\": \"\"\n      }\n    },\n    {\n      \"column\": \"FIFA 09\",\n      \"properties\": {\n        \"dtype\": \"number\",\n        \"std\": 4.509249752822894,\n        \"min\": 81.0,\n        \"max\": 90.0,\n        \"num_unique_values\": 3,\n        \"samples\": [\n          90.0,\n          81.0,\n          85.0\n        ],\n        \"semantic_type\": \"\",\n        \"description\": \"\"\n      }\n    },\n    {\n      \"column\": \"FIFA 08\",\n      \"properties\": {\n        \"dtype\": \"number\",\n        \"std\": 3.4641016151377544,\n        \"min\": 80.0,\n        \"max\": 86.0,\n        \"num_unique_values\": 2,\n        \"samples\": [\n          80.0,\n          86.0\n        ],\n        \"semantic_type\": \"\",\n        \"description\": \"\"\n      }\n    },\n    {\n      \"column\": \"FIFA 07\",\n      \"properties\": {\n        \"dtype\": \"number\",\n        \"std\": 10.535653752852738,\n        \"min\": 64.0,\n        \"max\": 85.0,\n        \"num_unique_values\": 3,\n        \"samples\": [\n          85.0,\n          64.0\n        ],\n        \"semantic_type\": \"\",\n        \"description\": \"\"\n      }\n    }\n  ]\n}"
            }
          },
          "metadata": {},
          "execution_count": 5
        }
      ]
    },
    {
      "cell_type": "code",
      "source": [
        "!pip install unidecode"
      ],
      "metadata": {
        "id": "t6U016sRcjXI",
        "colab": {
          "base_uri": "https://localhost:8080/"
        },
        "outputId": "75267d48-1f22-4509-cf86-ea13a8ca507c"
      },
      "execution_count": null,
      "outputs": [
        {
          "output_type": "stream",
          "name": "stdout",
          "text": [
            "Collecting unidecode\n",
            "  Downloading Unidecode-1.4.0-py3-none-any.whl.metadata (13 kB)\n",
            "Downloading Unidecode-1.4.0-py3-none-any.whl (235 kB)\n",
            "\u001b[2K   \u001b[90m━━━━━━━━━━━━━━━━━━━━━━━━━━━━━━━━━━━━━━━━\u001b[0m \u001b[32m235.8/235.8 kB\u001b[0m \u001b[31m5.0 MB/s\u001b[0m eta \u001b[36m0:00:00\u001b[0m\n",
            "\u001b[?25hInstalling collected packages: unidecode\n",
            "Successfully installed unidecode-1.4.0\n"
          ]
        }
      ]
    },
    {
      "cell_type": "code",
      "source": [
        "# 1. Mount Google Drive & import libraries\n",
        "from google.colab import drive\n",
        "drive.mount('/content/drive')\n",
        "\n",
        "import pandas as pd\n",
        "import numpy as np\n",
        "import ast\n",
        "from unidecode import unidecode\n",
        "\n",
        "# 2. Load raw files\n",
        "df = pd.read_csv('/content/drive/MyDrive/IST707_FinalProject/data/uncleaned_data.csv')\n",
        "ratings_data = pd.read_csv('/content/drive/MyDrive/IST707_FinalProject/data/final_ratings.csv')\n",
        "\n"
      ],
      "metadata": {
        "colab": {
          "base_uri": "https://localhost:8080/"
        },
        "id": "9MPcJNL-K5uh",
        "outputId": "c4943ac7-cec3-4f43-ce64-0b87a2ae474c"
      },
      "execution_count": null,
      "outputs": [
        {
          "output_type": "stream",
          "name": "stdout",
          "text": [
            "Drive already mounted at /content/drive; to attempt to forcibly remount, call drive.mount(\"/content/drive\", force_remount=True).\n"
          ]
        }
      ]
    },
    {
      "cell_type": "code",
      "source": [
        "# 3. Define working copy\n",
        "injury_flat = df.copy()"
      ],
      "metadata": {
        "id": "fRK6dq0PUnl2"
      },
      "execution_count": null,
      "outputs": []
    },
    {
      "cell_type": "code",
      "source": [
        "print(injury_flat.columns.tolist())\n"
      ],
      "metadata": {
        "colab": {
          "base_uri": "https://localhost:8080/"
        },
        "id": "GaHEiAgxU7OI",
        "outputId": "5aa379d3-1e84-470c-a74d-99118baee5c9"
      },
      "execution_count": null,
      "outputs": [
        {
          "output_type": "stream",
          "name": "stdout",
          "text": [
            "['Unnamed: 0.1', 'name', 'club_x', 'injuries', 'Unnamed: 0', 'nationality', 'position', 'club_y', 'age', 'birth_year', 'games', 'games_starts', 'minutes', 'cards_yellow', 'cards_red', 'minutes_90s', 'goals', 'shots', 'shots_free_kicks', 'passes_completed', 'passes', 'passes_total_distance', 'passes_progressive_distance', 'passes_short', 'passes_medium', 'passes_long', 'passes_live', 'passes_dead', 'passes_free_kicks', 'through_balls', 'passes_switches', 'crosses', 'corner_kicks', 'tackles', 'tackles_won', 'dribble_tackles', 'dribbled_past', 'blocks', 'interceptions', 'clearances', 'errors', 'touches', 'touches_live_ball', 'dribbles', 'miscontrols', 'dispossessed', 'passes_received', 'fouls', 'fouled', 'ball_recoveries', 'aerials_won', 'aerials_lost,']\n"
          ]
        }
      ]
    },
    {
      "cell_type": "code",
      "source": [
        "print(injury_flat['injuries'].iloc[0])\n"
      ],
      "metadata": {
        "colab": {
          "base_uri": "https://localhost:8080/"
        },
        "id": "ynKEiuFuV7za",
        "outputId": "ca55fe4b-72b3-4983-fe83-d75483591090"
      },
      "execution_count": null,
      "outputs": [
        {
          "output_type": "stream",
          "name": "stdout",
          "text": [
            "[('20/21', 'Virus Infection', 'Dec 27, 2020', 'Jan 12, 2021', '16', '3'), ('19/20', 'Ill', 'Dec 30, 2019', 'Jan 7, 2020', '8', '3'), ('19/20', 'Ill', 'Dec 8, 2019', 'Dec 14, 2019', '6', '1'), ('19/20', 'Muscular problems', 'Nov 6, 2019', 'Nov 22, 2019', '16', '2'), ('17/18', 'Facial Injury', 'Sep 10, 2017', 'Sep 12, 2017', '2', 0), ('16/17', 'Meniscal Injury', 'Jul 11, 2016', 'Aug 9, 2016', '29', '1')]\n"
          ]
        }
      ]
    },
    {
      "cell_type": "code",
      "source": [
        "import ast\n",
        "\n",
        "# Step 1: Safely parse the stringified list of tuples\n",
        "injury_flat = []\n",
        "\n",
        "for i, row in df.iterrows():\n",
        "    name = row['name']\n",
        "    age = row['age']\n",
        "    dribbles = row['dribbles']\n",
        "    fouls = row['fouls']\n",
        "    fouled = row['fouled']\n",
        "    passes_received = row['passes_received']\n",
        "\n",
        "    try:\n",
        "        injuries = ast.literal_eval(row['injuries'])\n",
        "    except:\n",
        "        continue  # skip if format is invalid\n",
        "\n",
        "    for injury in injuries:\n",
        "        try:\n",
        "            season, injury_type, start, end, days, matches = injury\n",
        "            days = int(days)  # convert to integer\n",
        "            injury_flat.append({\n",
        "                'name': name,\n",
        "                'age': age,\n",
        "                'dribbles': dribbles,\n",
        "                'fouls': fouls,\n",
        "                'fouled': fouled,\n",
        "                'passes_received': passes_received,\n",
        "                'injury_type': injury_type,\n",
        "                'days_injured': days\n",
        "            })\n",
        "        except:\n",
        "            continue\n",
        "\n",
        "injury_flat = pd.DataFrame(injury_flat)\n"
      ],
      "metadata": {
        "id": "AqlGf0hUc-XB"
      },
      "execution_count": null,
      "outputs": []
    },
    {
      "cell_type": "code",
      "source": [
        "def extract_region_fixed(injury):\n",
        "    if pd.isna(injury): return 'other'\n",
        "    injury = str(injury).lower()\n",
        "\n",
        "    # Specific reclassifications\n",
        "    if 'toe' in injury: return 'foot'\n",
        "    if 'biceps femoris' in injury: return 'hamstring'\n",
        "    if 'adductor' in injury or 'abductor' in injury: return 'groin'\n",
        "    if 'quadriceps' in injury: return 'thigh'\n",
        "    if 'tendon' in injury: return 'knee'\n",
        "    if 'fibre' in injury or 'muscle' in injury or 'strain' in injury or 'tear' in injury:\n",
        "        if 'hamstring' in injury: return 'hamstring'\n",
        "        if 'thigh' in injury: return 'thigh'\n",
        "        if 'calf' in injury: return 'calf'\n",
        "        if 'groin' in injury: return 'groin'\n",
        "        return 'hamstring'\n",
        "    if 'bruise' in injury:\n",
        "        for part in ['knee', 'ankle', 'foot', 'head', 'rib', 'hip', 'thigh']:\n",
        "            if part in injury:\n",
        "                return part\n",
        "        return 'thigh'\n",
        "\n",
        "    # General part match\n",
        "    parts = [\n",
        "        'knee', 'ankle', 'hamstring', 'groin', 'hip', 'foot', 'back',\n",
        "        'shoulder', 'rib', 'arm', 'hand', 'thigh', 'calf', 'pelvis',\n",
        "        'neck', 'head', 'chest', 'lung'\n",
        "    ]\n",
        "    for part in parts:\n",
        "        if part in injury:\n",
        "            return part\n",
        "    return 'other'\n"
      ],
      "metadata": {
        "id": "Cc195R2v7G7S"
      },
      "execution_count": null,
      "outputs": []
    },
    {
      "cell_type": "code",
      "source": [
        "def categorize_severity(days):\n",
        "    if pd.isna(days): return 'unknown'\n",
        "    days = int(days)\n",
        "    if days < 4: return 'mild'\n",
        "    elif days < 10: return 'moderate'\n",
        "    else: return 'severe'\n"
      ],
      "metadata": {
        "id": "5czm9Zpb7Tah"
      },
      "execution_count": null,
      "outputs": []
    },
    {
      "cell_type": "code",
      "source": [
        "# Normalize names for merging\n",
        "injury_flat['name'] = injury_flat['name'].str.lower().str.replace('-', ' ').str.strip().apply(unidecode)\n",
        "ratings_data['Name'] = ratings_data['Name'].str.lower().str.replace('-', ' ').str.strip().apply(unidecode)\n",
        "\n",
        "# Region mapping\n",
        "injury_flat['region'] = injury_flat['injury_type'].apply(extract_region_fixed)\n",
        "\n",
        "# Filter irrelevant\n",
        "drop_keywords = ['cold', 'fever', 'quarantine', 'fitness', 'rest', 'appendectomy', 'abdominal', 'abdomen', 'surgery']\n",
        "injury_flat = injury_flat[~injury_flat['injury_type'].str.lower().str.contains('|'.join(drop_keywords), na=False)]\n",
        "injury_flat = injury_flat[injury_flat['region'] != 'other']\n",
        "\n",
        "# Categorize severity\n",
        "injury_flat['severity_level'] = injury_flat['days_injured'].apply(categorize_severity)\n",
        "injury_flat['injury_group'] = injury_flat['region'] + '_' + injury_flat['severity_level']\n",
        "\n",
        "# Pivot to wide format\n",
        "injury_matrix = injury_flat.pivot_table(\n",
        "    index=['name', 'age', 'dribbles', 'fouls', 'fouled', 'passes_received'],\n",
        "    columns='injury_group',\n",
        "    values='days_injured',\n",
        "    aggfunc='sum',\n",
        "    fill_value=0\n",
        ").reset_index()\n",
        "\n",
        "# Merge with FIFA ratings\n",
        "injury_matrix['name_clean'] = injury_matrix['name'].str.lower().str.replace('-', ' ').str.strip().apply(unidecode)\n",
        "ratings_data['Name_clean'] = ratings_data['Name'].str.lower().str.replace('-', ' ').str.strip().apply(unidecode)\n",
        "\n",
        "injury_matrix = injury_matrix.merge(\n",
        "    ratings_data[['Name_clean', 'FC 24']].drop_duplicates(),\n",
        "    left_on='name_clean',\n",
        "    right_on='Name_clean',\n",
        "    how='left'\n",
        ")\n",
        "\n",
        "injury_matrix.drop(columns=['name_clean', 'Name_clean'], inplace=True)\n",
        "\n",
        "# Final checks\n",
        "print(\"Final DataFrame Shape:\", injury_matrix.shape)\n",
        "print(\" Non-null FIFA ratings:\", injury_matrix['FC 24'].notna().sum())\n",
        "print(\" 'other_*' columns present:\", injury_matrix.columns[injury_matrix.columns.str.startswith('other')].tolist())\n",
        "print(\" Total days injured:\",\n",
        "      int(injury_matrix.drop(columns=['name', 'age', 'dribbles', 'fouls', 'fouled', 'passes_received', 'FC 24']).sum().sum()))\n",
        "print(\"Example injury columns:\",\n",
        "      [col for col in injury_matrix.columns if '_' in col][:5])\n"
      ],
      "metadata": {
        "colab": {
          "base_uri": "https://localhost:8080/"
        },
        "id": "b92M6P9IWMDD",
        "outputId": "16858c8b-ec3e-4fc4-863c-ca59a16bc83c"
      },
      "execution_count": null,
      "outputs": [
        {
          "output_type": "stream",
          "name": "stdout",
          "text": [
            "Final DataFrame Shape: (1489, 56)\n",
            " Non-null FIFA ratings: 1438\n",
            " 'other_*' columns present: []\n",
            " Total days injured: 204326\n",
            "Example injury columns: ['passes_received', 'ankle_mild', 'ankle_moderate', 'ankle_severe', 'arm_mild']\n"
          ]
        },
        {
          "output_type": "stream",
          "name": "stderr",
          "text": [
            "<ipython-input-14-d95badce1432>:14: SettingWithCopyWarning: \n",
            "A value is trying to be set on a copy of a slice from a DataFrame.\n",
            "Try using .loc[row_indexer,col_indexer] = value instead\n",
            "\n",
            "See the caveats in the documentation: https://pandas.pydata.org/pandas-docs/stable/user_guide/indexing.html#returning-a-view-versus-a-copy\n",
            "  injury_flat['severity_level'] = injury_flat['days_injured'].apply(categorize_severity)\n",
            "<ipython-input-14-d95badce1432>:15: SettingWithCopyWarning: \n",
            "A value is trying to be set on a copy of a slice from a DataFrame.\n",
            "Try using .loc[row_indexer,col_indexer] = value instead\n",
            "\n",
            "See the caveats in the documentation: https://pandas.pydata.org/pandas-docs/stable/user_guide/indexing.html#returning-a-view-versus-a-copy\n",
            "  injury_flat['injury_group'] = injury_flat['region'] + '_' + injury_flat['severity_level']\n"
          ]
        }
      ]
    },
    {
      "cell_type": "code",
      "source": [
        "print(\"injury_matrix shape:\", injury_matrix.shape)\n",
        "print(\"Does injury_matrix have FIFA 24?\", 'FC 24' in injury_matrix.columns)\n",
        "print(\"injury_matrix non-null FIFA 24:\", injury_matrix['FC 24'].notna().sum())\n",
        "\n",
        "# Just in case you're actually looking at another DataFrame\n",
        "try:\n",
        "    print(\"injury_summary shape:\", injury_summary.shape)\n",
        "    print(\"Does injury_summary have FIFA 24?\", 'FC 24' in injury_summary.columns)\n",
        "    print(\"injury_summary non-null FIFA 24:\", injury_summary['FC 24'].notna().sum())\n",
        "except:\n",
        "    print(\"injury_summary not defined.\")\n"
      ],
      "metadata": {
        "colab": {
          "base_uri": "https://localhost:8080/"
        },
        "id": "rB25K7HGLG0W",
        "outputId": "0cf63506-0b87-44fd-c3c8-e9f7a2e6bc54"
      },
      "execution_count": null,
      "outputs": [
        {
          "output_type": "stream",
          "name": "stdout",
          "text": [
            "injury_matrix shape: (1489, 56)\n",
            "Does injury_matrix have FIFA 24? True\n",
            "injury_matrix non-null FIFA 24: 1438\n",
            "injury_summary not defined.\n"
          ]
        }
      ]
    },
    {
      "cell_type": "code",
      "source": [
        "from unidecode import unidecode\n",
        "\n",
        "# Clean names again\n",
        "injury_matrix['name_clean'] = injury_matrix['name'].str.lower().str.replace('-', ' ').str.strip().apply(unidecode)\n",
        "ratings_data['Name_clean'] = ratings_data['Name'].str.lower().str.replace('-', ' ').str.strip().apply(unidecode)\n",
        "\n",
        "# Drop if 'FC 24' already exists from bad merge\n",
        "if 'FC 24' in injury_matrix.columns:\n",
        "    injury_matrix = injury_matrix.drop(columns=['FC 24'])\n",
        "\n",
        "# Merge FIFA 24 scores\n",
        "injury_matrix = injury_matrix.merge(\n",
        "    ratings_data[['Name_clean', 'FC 24']].drop_duplicates(),\n",
        "    left_on='name_clean',\n",
        "    right_on='Name_clean',\n",
        "    how='left'\n",
        ")\n",
        "\n",
        "# Drop temp columns\n",
        "injury_matrix.drop(columns=['name_clean', 'Name_clean'], inplace=True)\n",
        "\n",
        "# Show results\n",
        "print(\"✅ Final FIFA 24 matches:\", injury_matrix['FC 24'].notna().sum())\n",
        "print(\"❌ Still unmatched:\", injury_matrix['FC 24'].isna().sum())\n"
      ],
      "metadata": {
        "colab": {
          "base_uri": "https://localhost:8080/"
        },
        "id": "DUHzCJQJOadA",
        "outputId": "2bd3829e-516a-40cb-9cde-78a530784216"
      },
      "execution_count": null,
      "outputs": [
        {
          "output_type": "stream",
          "name": "stdout",
          "text": [
            "✅ Final FIFA 24 matches: 1438\n",
            "❌ Still unmatched: 51\n"
          ]
        }
      ]
    },
    {
      "cell_type": "code",
      "source": [
        "injury_matrix.head(10)\n"
      ],
      "metadata": {
        "colab": {
          "base_uri": "https://localhost:8080/",
          "height": 603
        },
        "id": "fu9Ox2WaOyKJ",
        "outputId": "90bbe58c-c2fd-49a7-8096-1defa5966bc4"
      },
      "execution_count": null,
      "outputs": [
        {
          "output_type": "execute_result",
          "data": {
            "text/plain": [
              "                name     age  dribbles  fouls  fouled  passes_received  \\\n",
              "0    aaron cresswell  32-345       6.0    7.0     5.0            583.0   \n",
              "1       aaron hickey  20-168      25.0    7.0    17.0            228.0   \n",
              "2       aaron martin  25-217      15.0   15.0     6.0            411.0   \n",
              "3       aaron ramsey  31-334      14.0    7.0    10.0            306.0   \n",
              "4  aaron wan bissaka  24-364       0.0    0.0     0.0              0.0   \n",
              "5      abdallah sima  21-161       5.0   10.0     7.0            118.0   \n",
              "6  abdelhamid sabiri  25-362      35.0   21.0    28.0            338.0   \n",
              "7        abdon prats  29-353       4.0    2.0     4.0             40.0   \n",
              "8       abdou diallo  26-205       3.0    3.0     1.0            283.0   \n",
              "9      abdou harroui  24-316       3.0    6.0     0.0            119.0   \n",
              "\n",
              "   ankle_mild  ankle_moderate  ankle_severe  arm_mild  ...  rib_mild  \\\n",
              "0           3               0             0         0  ...         0   \n",
              "1           0               0            82         0  ...         0   \n",
              "2           0               0             0         0  ...         0   \n",
              "3           0               0             0         0  ...         0   \n",
              "4           0               0             0         0  ...         0   \n",
              "5           0               0            35         0  ...         0   \n",
              "6           0               0            13         0  ...         0   \n",
              "7           0               0             0         0  ...         0   \n",
              "8           0               0             0         0  ...         0   \n",
              "9           1               0             0         0  ...         0   \n",
              "\n",
              "   rib_moderate  rib_severe  shoulder_mild  shoulder_moderate  \\\n",
              "0             0           0              0                  0   \n",
              "1             0           0              0                  0   \n",
              "2             0           0              0                  0   \n",
              "3             0           0              0                  0   \n",
              "4             0           0              0                  0   \n",
              "5             0           0              0                  0   \n",
              "6             0           0              0                  0   \n",
              "7             0           0              0                  0   \n",
              "8             0           0              0                  0   \n",
              "9             0           0              0                 14   \n",
              "\n",
              "   shoulder_severe  thigh_mild  thigh_moderate  thigh_severe  FC 24  \n",
              "0                0           0               0             0   77.0  \n",
              "1               13           0               0             0   76.0  \n",
              "2                0           0               0             0    NaN  \n",
              "3                0           0               0            22   74.0  \n",
              "4               12           0               0             0   80.0  \n",
              "5                0           0               0             0   70.0  \n",
              "6                0           0               0             0   70.0  \n",
              "7                0           0               0             0   71.0  \n",
              "8                0           0               0             0   78.0  \n",
              "9                0           0               0             0   72.0  \n",
              "\n",
              "[10 rows x 56 columns]"
            ],
            "text/html": [
              "\n",
              "  <div id=\"df-09e6fdc1-84ed-4dc6-9720-2578afbaa6df\" class=\"colab-df-container\">\n",
              "    <div>\n",
              "<style scoped>\n",
              "    .dataframe tbody tr th:only-of-type {\n",
              "        vertical-align: middle;\n",
              "    }\n",
              "\n",
              "    .dataframe tbody tr th {\n",
              "        vertical-align: top;\n",
              "    }\n",
              "\n",
              "    .dataframe thead th {\n",
              "        text-align: right;\n",
              "    }\n",
              "</style>\n",
              "<table border=\"1\" class=\"dataframe\">\n",
              "  <thead>\n",
              "    <tr style=\"text-align: right;\">\n",
              "      <th></th>\n",
              "      <th>name</th>\n",
              "      <th>age</th>\n",
              "      <th>dribbles</th>\n",
              "      <th>fouls</th>\n",
              "      <th>fouled</th>\n",
              "      <th>passes_received</th>\n",
              "      <th>ankle_mild</th>\n",
              "      <th>ankle_moderate</th>\n",
              "      <th>ankle_severe</th>\n",
              "      <th>arm_mild</th>\n",
              "      <th>...</th>\n",
              "      <th>rib_mild</th>\n",
              "      <th>rib_moderate</th>\n",
              "      <th>rib_severe</th>\n",
              "      <th>shoulder_mild</th>\n",
              "      <th>shoulder_moderate</th>\n",
              "      <th>shoulder_severe</th>\n",
              "      <th>thigh_mild</th>\n",
              "      <th>thigh_moderate</th>\n",
              "      <th>thigh_severe</th>\n",
              "      <th>FC 24</th>\n",
              "    </tr>\n",
              "  </thead>\n",
              "  <tbody>\n",
              "    <tr>\n",
              "      <th>0</th>\n",
              "      <td>aaron cresswell</td>\n",
              "      <td>32-345</td>\n",
              "      <td>6.0</td>\n",
              "      <td>7.0</td>\n",
              "      <td>5.0</td>\n",
              "      <td>583.0</td>\n",
              "      <td>3</td>\n",
              "      <td>0</td>\n",
              "      <td>0</td>\n",
              "      <td>0</td>\n",
              "      <td>...</td>\n",
              "      <td>0</td>\n",
              "      <td>0</td>\n",
              "      <td>0</td>\n",
              "      <td>0</td>\n",
              "      <td>0</td>\n",
              "      <td>0</td>\n",
              "      <td>0</td>\n",
              "      <td>0</td>\n",
              "      <td>0</td>\n",
              "      <td>77.0</td>\n",
              "    </tr>\n",
              "    <tr>\n",
              "      <th>1</th>\n",
              "      <td>aaron hickey</td>\n",
              "      <td>20-168</td>\n",
              "      <td>25.0</td>\n",
              "      <td>7.0</td>\n",
              "      <td>17.0</td>\n",
              "      <td>228.0</td>\n",
              "      <td>0</td>\n",
              "      <td>0</td>\n",
              "      <td>82</td>\n",
              "      <td>0</td>\n",
              "      <td>...</td>\n",
              "      <td>0</td>\n",
              "      <td>0</td>\n",
              "      <td>0</td>\n",
              "      <td>0</td>\n",
              "      <td>0</td>\n",
              "      <td>13</td>\n",
              "      <td>0</td>\n",
              "      <td>0</td>\n",
              "      <td>0</td>\n",
              "      <td>76.0</td>\n",
              "    </tr>\n",
              "    <tr>\n",
              "      <th>2</th>\n",
              "      <td>aaron martin</td>\n",
              "      <td>25-217</td>\n",
              "      <td>15.0</td>\n",
              "      <td>15.0</td>\n",
              "      <td>6.0</td>\n",
              "      <td>411.0</td>\n",
              "      <td>0</td>\n",
              "      <td>0</td>\n",
              "      <td>0</td>\n",
              "      <td>0</td>\n",
              "      <td>...</td>\n",
              "      <td>0</td>\n",
              "      <td>0</td>\n",
              "      <td>0</td>\n",
              "      <td>0</td>\n",
              "      <td>0</td>\n",
              "      <td>0</td>\n",
              "      <td>0</td>\n",
              "      <td>0</td>\n",
              "      <td>0</td>\n",
              "      <td>NaN</td>\n",
              "    </tr>\n",
              "    <tr>\n",
              "      <th>3</th>\n",
              "      <td>aaron ramsey</td>\n",
              "      <td>31-334</td>\n",
              "      <td>14.0</td>\n",
              "      <td>7.0</td>\n",
              "      <td>10.0</td>\n",
              "      <td>306.0</td>\n",
              "      <td>0</td>\n",
              "      <td>0</td>\n",
              "      <td>0</td>\n",
              "      <td>0</td>\n",
              "      <td>...</td>\n",
              "      <td>0</td>\n",
              "      <td>0</td>\n",
              "      <td>0</td>\n",
              "      <td>0</td>\n",
              "      <td>0</td>\n",
              "      <td>0</td>\n",
              "      <td>0</td>\n",
              "      <td>0</td>\n",
              "      <td>22</td>\n",
              "      <td>74.0</td>\n",
              "    </tr>\n",
              "    <tr>\n",
              "      <th>4</th>\n",
              "      <td>aaron wan bissaka</td>\n",
              "      <td>24-364</td>\n",
              "      <td>0.0</td>\n",
              "      <td>0.0</td>\n",
              "      <td>0.0</td>\n",
              "      <td>0.0</td>\n",
              "      <td>0</td>\n",
              "      <td>0</td>\n",
              "      <td>0</td>\n",
              "      <td>0</td>\n",
              "      <td>...</td>\n",
              "      <td>0</td>\n",
              "      <td>0</td>\n",
              "      <td>0</td>\n",
              "      <td>0</td>\n",
              "      <td>0</td>\n",
              "      <td>12</td>\n",
              "      <td>0</td>\n",
              "      <td>0</td>\n",
              "      <td>0</td>\n",
              "      <td>80.0</td>\n",
              "    </tr>\n",
              "    <tr>\n",
              "      <th>5</th>\n",
              "      <td>abdallah sima</td>\n",
              "      <td>21-161</td>\n",
              "      <td>5.0</td>\n",
              "      <td>10.0</td>\n",
              "      <td>7.0</td>\n",
              "      <td>118.0</td>\n",
              "      <td>0</td>\n",
              "      <td>0</td>\n",
              "      <td>35</td>\n",
              "      <td>0</td>\n",
              "      <td>...</td>\n",
              "      <td>0</td>\n",
              "      <td>0</td>\n",
              "      <td>0</td>\n",
              "      <td>0</td>\n",
              "      <td>0</td>\n",
              "      <td>0</td>\n",
              "      <td>0</td>\n",
              "      <td>0</td>\n",
              "      <td>0</td>\n",
              "      <td>70.0</td>\n",
              "    </tr>\n",
              "    <tr>\n",
              "      <th>6</th>\n",
              "      <td>abdelhamid sabiri</td>\n",
              "      <td>25-362</td>\n",
              "      <td>35.0</td>\n",
              "      <td>21.0</td>\n",
              "      <td>28.0</td>\n",
              "      <td>338.0</td>\n",
              "      <td>0</td>\n",
              "      <td>0</td>\n",
              "      <td>13</td>\n",
              "      <td>0</td>\n",
              "      <td>...</td>\n",
              "      <td>0</td>\n",
              "      <td>0</td>\n",
              "      <td>0</td>\n",
              "      <td>0</td>\n",
              "      <td>0</td>\n",
              "      <td>0</td>\n",
              "      <td>0</td>\n",
              "      <td>0</td>\n",
              "      <td>0</td>\n",
              "      <td>70.0</td>\n",
              "    </tr>\n",
              "    <tr>\n",
              "      <th>7</th>\n",
              "      <td>abdon prats</td>\n",
              "      <td>29-353</td>\n",
              "      <td>4.0</td>\n",
              "      <td>2.0</td>\n",
              "      <td>4.0</td>\n",
              "      <td>40.0</td>\n",
              "      <td>0</td>\n",
              "      <td>0</td>\n",
              "      <td>0</td>\n",
              "      <td>0</td>\n",
              "      <td>...</td>\n",
              "      <td>0</td>\n",
              "      <td>0</td>\n",
              "      <td>0</td>\n",
              "      <td>0</td>\n",
              "      <td>0</td>\n",
              "      <td>0</td>\n",
              "      <td>0</td>\n",
              "      <td>0</td>\n",
              "      <td>0</td>\n",
              "      <td>71.0</td>\n",
              "    </tr>\n",
              "    <tr>\n",
              "      <th>8</th>\n",
              "      <td>abdou diallo</td>\n",
              "      <td>26-205</td>\n",
              "      <td>3.0</td>\n",
              "      <td>3.0</td>\n",
              "      <td>1.0</td>\n",
              "      <td>283.0</td>\n",
              "      <td>0</td>\n",
              "      <td>0</td>\n",
              "      <td>0</td>\n",
              "      <td>0</td>\n",
              "      <td>...</td>\n",
              "      <td>0</td>\n",
              "      <td>0</td>\n",
              "      <td>0</td>\n",
              "      <td>0</td>\n",
              "      <td>0</td>\n",
              "      <td>0</td>\n",
              "      <td>0</td>\n",
              "      <td>0</td>\n",
              "      <td>0</td>\n",
              "      <td>78.0</td>\n",
              "    </tr>\n",
              "    <tr>\n",
              "      <th>9</th>\n",
              "      <td>abdou harroui</td>\n",
              "      <td>24-316</td>\n",
              "      <td>3.0</td>\n",
              "      <td>6.0</td>\n",
              "      <td>0.0</td>\n",
              "      <td>119.0</td>\n",
              "      <td>1</td>\n",
              "      <td>0</td>\n",
              "      <td>0</td>\n",
              "      <td>0</td>\n",
              "      <td>...</td>\n",
              "      <td>0</td>\n",
              "      <td>0</td>\n",
              "      <td>0</td>\n",
              "      <td>0</td>\n",
              "      <td>14</td>\n",
              "      <td>0</td>\n",
              "      <td>0</td>\n",
              "      <td>0</td>\n",
              "      <td>0</td>\n",
              "      <td>72.0</td>\n",
              "    </tr>\n",
              "  </tbody>\n",
              "</table>\n",
              "<p>10 rows × 56 columns</p>\n",
              "</div>\n",
              "    <div class=\"colab-df-buttons\">\n",
              "\n",
              "  <div class=\"colab-df-container\">\n",
              "    <button class=\"colab-df-convert\" onclick=\"convertToInteractive('df-09e6fdc1-84ed-4dc6-9720-2578afbaa6df')\"\n",
              "            title=\"Convert this dataframe to an interactive table.\"\n",
              "            style=\"display:none;\">\n",
              "\n",
              "  <svg xmlns=\"http://www.w3.org/2000/svg\" height=\"24px\" viewBox=\"0 -960 960 960\">\n",
              "    <path d=\"M120-120v-720h720v720H120Zm60-500h600v-160H180v160Zm220 220h160v-160H400v160Zm0 220h160v-160H400v160ZM180-400h160v-160H180v160Zm440 0h160v-160H620v160ZM180-180h160v-160H180v160Zm440 0h160v-160H620v160Z\"/>\n",
              "  </svg>\n",
              "    </button>\n",
              "\n",
              "  <style>\n",
              "    .colab-df-container {\n",
              "      display:flex;\n",
              "      gap: 12px;\n",
              "    }\n",
              "\n",
              "    .colab-df-convert {\n",
              "      background-color: #E8F0FE;\n",
              "      border: none;\n",
              "      border-radius: 50%;\n",
              "      cursor: pointer;\n",
              "      display: none;\n",
              "      fill: #1967D2;\n",
              "      height: 32px;\n",
              "      padding: 0 0 0 0;\n",
              "      width: 32px;\n",
              "    }\n",
              "\n",
              "    .colab-df-convert:hover {\n",
              "      background-color: #E2EBFA;\n",
              "      box-shadow: 0px 1px 2px rgba(60, 64, 67, 0.3), 0px 1px 3px 1px rgba(60, 64, 67, 0.15);\n",
              "      fill: #174EA6;\n",
              "    }\n",
              "\n",
              "    .colab-df-buttons div {\n",
              "      margin-bottom: 4px;\n",
              "    }\n",
              "\n",
              "    [theme=dark] .colab-df-convert {\n",
              "      background-color: #3B4455;\n",
              "      fill: #D2E3FC;\n",
              "    }\n",
              "\n",
              "    [theme=dark] .colab-df-convert:hover {\n",
              "      background-color: #434B5C;\n",
              "      box-shadow: 0px 1px 3px 1px rgba(0, 0, 0, 0.15);\n",
              "      filter: drop-shadow(0px 1px 2px rgba(0, 0, 0, 0.3));\n",
              "      fill: #FFFFFF;\n",
              "    }\n",
              "  </style>\n",
              "\n",
              "    <script>\n",
              "      const buttonEl =\n",
              "        document.querySelector('#df-09e6fdc1-84ed-4dc6-9720-2578afbaa6df button.colab-df-convert');\n",
              "      buttonEl.style.display =\n",
              "        google.colab.kernel.accessAllowed ? 'block' : 'none';\n",
              "\n",
              "      async function convertToInteractive(key) {\n",
              "        const element = document.querySelector('#df-09e6fdc1-84ed-4dc6-9720-2578afbaa6df');\n",
              "        const dataTable =\n",
              "          await google.colab.kernel.invokeFunction('convertToInteractive',\n",
              "                                                    [key], {});\n",
              "        if (!dataTable) return;\n",
              "\n",
              "        const docLinkHtml = 'Like what you see? Visit the ' +\n",
              "          '<a target=\"_blank\" href=https://colab.research.google.com/notebooks/data_table.ipynb>data table notebook</a>'\n",
              "          + ' to learn more about interactive tables.';\n",
              "        element.innerHTML = '';\n",
              "        dataTable['output_type'] = 'display_data';\n",
              "        await google.colab.output.renderOutput(dataTable, element);\n",
              "        const docLink = document.createElement('div');\n",
              "        docLink.innerHTML = docLinkHtml;\n",
              "        element.appendChild(docLink);\n",
              "      }\n",
              "    </script>\n",
              "  </div>\n",
              "\n",
              "\n",
              "    <div id=\"df-ea3e8dbe-e3b9-4df5-9efd-b97893041e63\">\n",
              "      <button class=\"colab-df-quickchart\" onclick=\"quickchart('df-ea3e8dbe-e3b9-4df5-9efd-b97893041e63')\"\n",
              "                title=\"Suggest charts\"\n",
              "                style=\"display:none;\">\n",
              "\n",
              "<svg xmlns=\"http://www.w3.org/2000/svg\" height=\"24px\"viewBox=\"0 0 24 24\"\n",
              "     width=\"24px\">\n",
              "    <g>\n",
              "        <path d=\"M19 3H5c-1.1 0-2 .9-2 2v14c0 1.1.9 2 2 2h14c1.1 0 2-.9 2-2V5c0-1.1-.9-2-2-2zM9 17H7v-7h2v7zm4 0h-2V7h2v10zm4 0h-2v-4h2v4z\"/>\n",
              "    </g>\n",
              "</svg>\n",
              "      </button>\n",
              "\n",
              "<style>\n",
              "  .colab-df-quickchart {\n",
              "      --bg-color: #E8F0FE;\n",
              "      --fill-color: #1967D2;\n",
              "      --hover-bg-color: #E2EBFA;\n",
              "      --hover-fill-color: #174EA6;\n",
              "      --disabled-fill-color: #AAA;\n",
              "      --disabled-bg-color: #DDD;\n",
              "  }\n",
              "\n",
              "  [theme=dark] .colab-df-quickchart {\n",
              "      --bg-color: #3B4455;\n",
              "      --fill-color: #D2E3FC;\n",
              "      --hover-bg-color: #434B5C;\n",
              "      --hover-fill-color: #FFFFFF;\n",
              "      --disabled-bg-color: #3B4455;\n",
              "      --disabled-fill-color: #666;\n",
              "  }\n",
              "\n",
              "  .colab-df-quickchart {\n",
              "    background-color: var(--bg-color);\n",
              "    border: none;\n",
              "    border-radius: 50%;\n",
              "    cursor: pointer;\n",
              "    display: none;\n",
              "    fill: var(--fill-color);\n",
              "    height: 32px;\n",
              "    padding: 0;\n",
              "    width: 32px;\n",
              "  }\n",
              "\n",
              "  .colab-df-quickchart:hover {\n",
              "    background-color: var(--hover-bg-color);\n",
              "    box-shadow: 0 1px 2px rgba(60, 64, 67, 0.3), 0 1px 3px 1px rgba(60, 64, 67, 0.15);\n",
              "    fill: var(--button-hover-fill-color);\n",
              "  }\n",
              "\n",
              "  .colab-df-quickchart-complete:disabled,\n",
              "  .colab-df-quickchart-complete:disabled:hover {\n",
              "    background-color: var(--disabled-bg-color);\n",
              "    fill: var(--disabled-fill-color);\n",
              "    box-shadow: none;\n",
              "  }\n",
              "\n",
              "  .colab-df-spinner {\n",
              "    border: 2px solid var(--fill-color);\n",
              "    border-color: transparent;\n",
              "    border-bottom-color: var(--fill-color);\n",
              "    animation:\n",
              "      spin 1s steps(1) infinite;\n",
              "  }\n",
              "\n",
              "  @keyframes spin {\n",
              "    0% {\n",
              "      border-color: transparent;\n",
              "      border-bottom-color: var(--fill-color);\n",
              "      border-left-color: var(--fill-color);\n",
              "    }\n",
              "    20% {\n",
              "      border-color: transparent;\n",
              "      border-left-color: var(--fill-color);\n",
              "      border-top-color: var(--fill-color);\n",
              "    }\n",
              "    30% {\n",
              "      border-color: transparent;\n",
              "      border-left-color: var(--fill-color);\n",
              "      border-top-color: var(--fill-color);\n",
              "      border-right-color: var(--fill-color);\n",
              "    }\n",
              "    40% {\n",
              "      border-color: transparent;\n",
              "      border-right-color: var(--fill-color);\n",
              "      border-top-color: var(--fill-color);\n",
              "    }\n",
              "    60% {\n",
              "      border-color: transparent;\n",
              "      border-right-color: var(--fill-color);\n",
              "    }\n",
              "    80% {\n",
              "      border-color: transparent;\n",
              "      border-right-color: var(--fill-color);\n",
              "      border-bottom-color: var(--fill-color);\n",
              "    }\n",
              "    90% {\n",
              "      border-color: transparent;\n",
              "      border-bottom-color: var(--fill-color);\n",
              "    }\n",
              "  }\n",
              "</style>\n",
              "\n",
              "      <script>\n",
              "        async function quickchart(key) {\n",
              "          const quickchartButtonEl =\n",
              "            document.querySelector('#' + key + ' button');\n",
              "          quickchartButtonEl.disabled = true;  // To prevent multiple clicks.\n",
              "          quickchartButtonEl.classList.add('colab-df-spinner');\n",
              "          try {\n",
              "            const charts = await google.colab.kernel.invokeFunction(\n",
              "                'suggestCharts', [key], {});\n",
              "          } catch (error) {\n",
              "            console.error('Error during call to suggestCharts:', error);\n",
              "          }\n",
              "          quickchartButtonEl.classList.remove('colab-df-spinner');\n",
              "          quickchartButtonEl.classList.add('colab-df-quickchart-complete');\n",
              "        }\n",
              "        (() => {\n",
              "          let quickchartButtonEl =\n",
              "            document.querySelector('#df-ea3e8dbe-e3b9-4df5-9efd-b97893041e63 button');\n",
              "          quickchartButtonEl.style.display =\n",
              "            google.colab.kernel.accessAllowed ? 'block' : 'none';\n",
              "        })();\n",
              "      </script>\n",
              "    </div>\n",
              "\n",
              "    </div>\n",
              "  </div>\n"
            ],
            "application/vnd.google.colaboratory.intrinsic+json": {
              "type": "dataframe",
              "variable_name": "injury_matrix"
            }
          },
          "metadata": {},
          "execution_count": 17
        }
      ]
    },
    {
      "cell_type": "code",
      "source": [
        "# Drop rows that do not have a fifa rating\n",
        "injury_matrix = injury_matrix.dropna(subset=['FC 24']).reset_index(drop=True)\n",
        "print(\"After dropping NaNs, shape:\", injury_matrix.shape)\n"
      ],
      "metadata": {
        "colab": {
          "base_uri": "https://localhost:8080/"
        },
        "id": "iblCDY89Pnpf",
        "outputId": "c830f301-15da-4eec-9552-aaa4e8bf081e"
      },
      "execution_count": null,
      "outputs": [
        {
          "output_type": "stream",
          "name": "stdout",
          "text": [
            "After dropping NaNs, shape: (1438, 56)\n"
          ]
        }
      ]
    },
    {
      "cell_type": "code",
      "source": [
        "# Confirm no NaNs in the entire dataset\n",
        "print(\"Total NaNs in dataset:\", injury_matrix.isna().sum().sum())\n"
      ],
      "metadata": {
        "colab": {
          "base_uri": "https://localhost:8080/"
        },
        "id": "PxXMQ0QOQgm6",
        "outputId": "526e1254-8a38-41c3-8705-4cf17dd9edb7"
      },
      "execution_count": null,
      "outputs": [
        {
          "output_type": "stream",
          "name": "stdout",
          "text": [
            "Total NaNs in dataset: 0\n"
          ]
        }
      ]
    },
    {
      "cell_type": "code",
      "source": [
        "print(injury_matrix.columns.tolist())\n"
      ],
      "metadata": {
        "colab": {
          "base_uri": "https://localhost:8080/"
        },
        "id": "ZXQq8UGNRinH",
        "outputId": "f33f2f33-5530-4858-9e4c-508fb393157b"
      },
      "execution_count": null,
      "outputs": [
        {
          "output_type": "stream",
          "name": "stdout",
          "text": [
            "['name', 'age', 'dribbles', 'fouls', 'fouled', 'passes_received', 'ankle_mild', 'ankle_moderate', 'ankle_severe', 'arm_mild', 'arm_moderate', 'arm_severe', 'back_mild', 'back_moderate', 'back_severe', 'calf_mild', 'calf_moderate', 'calf_severe', 'chest_mild', 'chest_severe', 'foot_mild', 'foot_moderate', 'foot_severe', 'groin_mild', 'groin_moderate', 'groin_severe', 'hamstring_mild', 'hamstring_moderate', 'hamstring_severe', 'hand_mild', 'hand_moderate', 'hand_severe', 'head_mild', 'head_moderate', 'head_severe', 'hip_mild', 'hip_moderate', 'hip_severe', 'knee_mild', 'knee_moderate', 'knee_severe', 'lung_severe', 'neck_mild', 'neck_moderate', 'neck_severe', 'pelvis_severe', 'rib_mild', 'rib_moderate', 'rib_severe', 'shoulder_mild', 'shoulder_moderate', 'shoulder_severe', 'thigh_mild', 'thigh_moderate', 'thigh_severe', 'FC 24']\n"
          ]
        }
      ]
    },
    {
      "cell_type": "code",
      "source": [
        "# Do any columns have all 0\n",
        "# Select only the injury columns (excluding metadata and FC 24 score)\n",
        "injury_cols = [col for col in df.columns if col not in ['name', 'age', 'dribbles', 'fouls', 'fouled', 'passes_received', 'FC 24']]\n",
        "\n",
        "# Find columns where the sum of all values is 0 (i.e., no injuries recorded)\n",
        "no_injury_cols = [col for col in injury_cols if df[col].sum() == 0]\n",
        "\n",
        "print(\"Columns with all zeros (no player ever had this injury):\")\n",
        "print(no_injury_cols)\n"
      ],
      "metadata": {
        "colab": {
          "base_uri": "https://localhost:8080/"
        },
        "id": "n-_NIRNuRihU",
        "outputId": "74258bf1-c9b3-45b8-cf69-339b3070df13"
      },
      "execution_count": null,
      "outputs": [
        {
          "output_type": "stream",
          "name": "stdout",
          "text": [
            "Columns with all zeros (no player ever had this injury):\n",
            "[]\n"
          ]
        }
      ]
    },
    {
      "cell_type": "code",
      "source": [
        "# Visulize the data\n",
        "import matplotlib.pyplot as plt\n",
        "\n",
        "# Select only the injury columns (excluding metadata like name, age, FIFA score, etc.)\n",
        "injury_columns = injury_matrix.columns.difference(['name', 'age', 'dribbles', 'fouls', 'fouled', 'passes_received', 'FC 24'])\n",
        "\n",
        "# Sum the injury counts for each column\n",
        "injury_totals = injury_matrix[injury_columns].sum().sort_values(ascending=False)\n",
        "\n",
        "# Plot the totals\n",
        "plt.figure(figsize=(14, 6))\n",
        "injury_totals.plot(kind='bar')\n",
        "plt.title('Total Injury Counts by Type')\n",
        "plt.xlabel('Injury Type')\n",
        "plt.ylabel('Total Count Across All Players')\n",
        "plt.xticks(rotation=90)\n",
        "plt.tight_layout()\n",
        "plt.show()\n"
      ],
      "metadata": {
        "colab": {
          "base_uri": "https://localhost:8080/",
          "height": 589
        },
        "id": "a_2PEhj5S3Yn",
        "outputId": "31ee5a71-be16-4079-fac2-dc0dd2cb6758"
      },
      "execution_count": null,
      "outputs": [
        {
          "output_type": "display_data",
          "data": {
            "text/plain": [
              "<Figure size 1400x600 with 1 Axes>"
            ],
            "image/png": "[encoded data removed]"
          },
          "metadata": {}
        }
      ]
    },
    {
      "cell_type": "code",
      "source": [
        "# Identify injury columns again (excluding metadata columns)\n",
        "injury_columns = injury_matrix.columns.difference(['name', 'age', 'dribbles', 'fouls', 'fouled', 'passes_received', 'FC 24'])\n",
        "\n",
        "# Sum total injury days for each column\n",
        "injury_totals = injury_matrix[injury_columns].sum().sort_values()\n",
        "\n",
        "# Show the bottom 10 injury types\n",
        "print(\"🔻 Bottom 10 injury types by total days:\")\n",
        "print(injury_totals.head(10))\n"
      ],
      "metadata": {
        "colab": {
          "base_uri": "https://localhost:8080/"
        },
        "id": "acf7JsDDYU8z",
        "outputId": "f9c244c3-64f1-4655-a953-812ba0355289"
      },
      "execution_count": null,
      "outputs": [
        {
          "output_type": "stream",
          "name": "stdout",
          "text": [
            "🔻 Bottom 10 injury types by total days:\n",
            "arm_mild          1\n",
            "chest_mild        3\n",
            "neck_mild         3\n",
            "hand_mild        10\n",
            "rib_mild         12\n",
            "arm_moderate     12\n",
            "shoulder_mild    13\n",
            "pelvis_severe    14\n",
            "head_mild        23\n",
            "neck_moderate    25\n",
            "dtype: int64\n"
          ]
        }
      ]
    },
    {
      "cell_type": "code",
      "source": [
        "# List columns that are actual injury durations (not metadata or ratings)\n",
        "exclude = ['name', 'age', 'dribbles', 'fouls', 'fouled', 'passes_received', 'FC 24']\n",
        "injury_cols = [col for col in injury_matrix.columns if col not in exclude]\n",
        "\n",
        "# Sum total days injured\n",
        "total_days_now = injury_matrix[injury_cols].sum().sum()\n",
        "print(\"✅ Total days injured (cleaned dataset):\", int(total_days_now))\n"
      ],
      "metadata": {
        "colab": {
          "base_uri": "https://localhost:8080/"
        },
        "id": "m9LgMroYYgqW",
        "outputId": "59813979-6772-428f-e9d0-d645ac1fcf0d"
      },
      "execution_count": null,
      "outputs": [
        {
          "output_type": "stream",
          "name": "stdout",
          "text": [
            "✅ Total days injured (cleaned dataset): 196561\n"
          ]
        }
      ]
    },
    {
      "cell_type": "code",
      "source": [
        "# List injury columns (exclude metadata + FIFA)\n",
        "exclude = ['name', 'age', 'dribbles', 'fouls', 'fouled', 'passes_received', 'FC 24']\n",
        "injury_cols = [col for col in injury_matrix.columns if col not in exclude]\n",
        "\n",
        "# Count players with all-zero injuries\n",
        "players_with_no_injuries = (injury_matrix[injury_cols].sum(axis=1) == 0).sum()\n",
        "players_with_injuries = len(injury_matrix) - players_with_no_injuries\n",
        "\n",
        "print(f\"🟢 Players WITH at least one injury: {players_with_injuries}\")\n",
        "print(f\"🔘 Players with NO injuries at all: {players_with_no_injuries}\")\n"
      ],
      "metadata": {
        "colab": {
          "base_uri": "https://localhost:8080/"
        },
        "id": "N3AxrztNgJdS",
        "outputId": "80efdd15-b3e8-4a2b-ec89-89dd3cf73644"
      },
      "execution_count": null,
      "outputs": [
        {
          "output_type": "stream",
          "name": "stdout",
          "text": [
            "🟢 Players WITH at least one injury: 1435\n",
            "🔘 Players with NO injuries at all: 3\n"
          ]
        }
      ]
    },
    {
      "cell_type": "markdown",
      "source": [
        "## Modeling & Evaluation"
      ],
      "metadata": {
        "id": "OrY_0xcAC0Dc"
      }
    },
    {
      "cell_type": "code",
      "source": [
        "from sklearn.model_selection import train_test_split\n",
        "\n",
        "X = injury_matrix.drop(columns=['name', 'age', 'dribbles', 'fouls', 'fouled', 'passes_received', 'FC 24'])\n",
        "y = injury_matrix['FC 24']\n",
        "\n",
        "X_train, X_test, y_train, y_test = train_test_split(X, y, test_size=0.2, random_state=42)"
      ],
      "metadata": {
        "id": "F4DmBwEcE_D3"
      },
      "execution_count": null,
      "outputs": []
    },
    {
      "cell_type": "code",
      "source": [
        "from sklearn.tree import DecisionTreeClassifier\n",
        "from sklearn.ensemble import GradientBoostingClassifier\n",
        "from sklearn.metrics import accuracy_score, confusion_matrix, classification_report"
      ],
      "metadata": {
        "id": "9yCVvOdjFHEU"
      },
      "execution_count": null,
      "outputs": []
    },
    {
      "cell_type": "code",
      "source": [
        "injury_matrix.info()"
      ],
      "metadata": {
        "colab": {
          "base_uri": "https://localhost:8080/"
        },
        "id": "TM_VwL9PFiPr",
        "outputId": "d37098c3-a404-4eff-9418-fba044640709"
      },
      "execution_count": null,
      "outputs": [
        {
          "output_type": "stream",
          "name": "stdout",
          "text": [
            "<class 'pandas.core.frame.DataFrame'>\n",
            "RangeIndex: 1438 entries, 0 to 1437\n",
            "Data columns (total 56 columns):\n",
            " #   Column              Non-Null Count  Dtype  \n",
            "---  ------              --------------  -----  \n",
            " 0   name                1438 non-null   object \n",
            " 1   age                 1438 non-null   object \n",
            " 2   dribbles            1438 non-null   float64\n",
            " 3   fouls               1438 non-null   float64\n",
            " 4   fouled              1438 non-null   float64\n",
            " 5   passes_received     1438 non-null   float64\n",
            " 6   ankle_mild          1438 non-null   int64  \n",
            " 7   ankle_moderate      1438 non-null   int64  \n",
            " 8   ankle_severe        1438 non-null   int64  \n",
            " 9   arm_mild            1438 non-null   int64  \n",
            " 10  arm_moderate        1438 non-null   int64  \n",
            " 11  arm_severe          1438 non-null   int64  \n",
            " 12  back_mild           1438 non-null   int64  \n",
            " 13  back_moderate       1438 non-null   int64  \n",
            " 14  back_severe         1438 non-null   int64  \n",
            " 15  calf_mild           1438 non-null   int64  \n",
            " 16  calf_moderate       1438 non-null   int64  \n",
            " 17  calf_severe         1438 non-null   int64  \n",
            " 18  chest_mild          1438 non-null   int64  \n",
            " 19  chest_severe        1438 non-null   int64  \n",
            " 20  foot_mild           1438 non-null   int64  \n",
            " 21  foot_moderate       1438 non-null   int64  \n",
            " 22  foot_severe         1438 non-null   int64  \n",
            " 23  groin_mild          1438 non-null   int64  \n",
            " 24  groin_moderate      1438 non-null   int64  \n",
            " 25  groin_severe        1438 non-null   int64  \n",
            " 26  hamstring_mild      1438 non-null   int64  \n",
            " 27  hamstring_moderate  1438 non-null   int64  \n",
            " 28  hamstring_severe    1438 non-null   int64  \n",
            " 29  hand_mild           1438 non-null   int64  \n",
            " 30  hand_moderate       1438 non-null   int64  \n",
            " 31  hand_severe         1438 non-null   int64  \n",
            " 32  head_mild           1438 non-null   int64  \n",
            " 33  head_moderate       1438 non-null   int64  \n",
            " 34  head_severe         1438 non-null   int64  \n",
            " 35  hip_mild            1438 non-null   int64  \n",
            " 36  hip_moderate        1438 non-null   int64  \n",
            " 37  hip_severe          1438 non-null   int64  \n",
            " 38  knee_mild           1438 non-null   int64  \n",
            " 39  knee_moderate       1438 non-null   int64  \n",
            " 40  knee_severe         1438 non-null   int64  \n",
            " 41  lung_severe         1438 non-null   int64  \n",
            " 42  neck_mild           1438 non-null   int64  \n",
            " 43  neck_moderate       1438 non-null   int64  \n",
            " 44  neck_severe         1438 non-null   int64  \n",
            " 45  pelvis_severe       1438 non-null   int64  \n",
            " 46  rib_mild            1438 non-null   int64  \n",
            " 47  rib_moderate        1438 non-null   int64  \n",
            " 48  rib_severe          1438 non-null   int64  \n",
            " 49  shoulder_mild       1438 non-null   int64  \n",
            " 50  shoulder_moderate   1438 non-null   int64  \n",
            " 51  shoulder_severe     1438 non-null   int64  \n",
            " 52  thigh_mild          1438 non-null   int64  \n",
            " 53  thigh_moderate      1438 non-null   int64  \n",
            " 54  thigh_severe        1438 non-null   int64  \n",
            " 55  FC 24               1438 non-null   float64\n",
            "dtypes: float64(5), int64(49), object(2)\n",
            "memory usage: 629.3+ KB\n"
          ]
        }
      ]
    },
    {
      "cell_type": "code",
      "source": [
        "from sklearn.ensemble import RandomForestRegressor\n",
        "\n",
        "# Random Forest\n",
        "rf_model = RandomForestRegressor(random_state=42)\n",
        "rf_model.fit(X_train, y_train)\n",
        "\n",
        "# Evaluate\n",
        "print(\"Random Forest R^2 score:\", rf_model.score(X_test, y_test))"
      ],
      "metadata": {
        "colab": {
          "base_uri": "https://localhost:8080/"
        },
        "id": "S8EBpokMIUJw",
        "outputId": "d3489aa2-cdbe-4645-aa56-d9bd44c77b2b"
      },
      "execution_count": null,
      "outputs": [
        {
          "output_type": "stream",
          "name": "stdout",
          "text": [
            "Random Forest R^2 score: -0.04182152839653064\n"
          ]
        }
      ]
    },
    {
      "cell_type": "code",
      "source": [
        "# Gradient Boosting Tree Classifier\n",
        "gbc_model = GradientBoostingClassifier(max_depth=6, random_state=42)\n",
        "gbc_model.fit(X_train, y_train)\n",
        "\n",
        "# Evaluate\n",
        "print(\"Gradient Boosting R^2 score:\", gbc_model.score(X_test, y_test))\n",
        "\n",
        "y_pred_gbc = gbc_model.predict(X_test)\n",
        "\n",
        "# Calculate Accuracy\n",
        "accuracy = accuracy_score(y_test, y_pred_gbc)\n",
        "print(f\"Decision Tree Accuracy: {accuracy}\")\n",
        "\n",
        "# Classification Report\n",
        "print(f\"Classification Report:\\n{classification_report(y_test, y_pred_gbc)}\")"
      ],
      "metadata": {
        "colab": {
          "base_uri": "https://localhost:8080/"
        },
        "id": "GtHFR_twC3Y-",
        "outputId": "ff0c4c23-d072-44b9-b463-6c63be5f2158"
      },
      "execution_count": null,
      "outputs": [
        {
          "output_type": "stream",
          "name": "stdout",
          "text": [
            "Gradient Boosting R^2 score: 0.0763888888888889\n",
            "Decision Tree Accuracy: 0.0763888888888889\n",
            "Classification Report:\n",
            "              precision    recall  f1-score   support\n",
            "\n",
            "        62.0       0.00      0.00      0.00         1\n",
            "        64.0       0.00      0.00      0.00         1\n",
            "        65.0       0.00      0.00      0.00         1\n",
            "        66.0       0.00      0.00      0.00         1\n",
            "        67.0       0.00      0.00      0.00         2\n",
            "        68.0       0.00      0.00      0.00         3\n",
            "        69.0       0.00      0.00      0.00        11\n",
            "        70.0       0.22      0.25      0.24         8\n",
            "        71.0       0.00      0.00      0.00        21\n",
            "        72.0       0.05      0.06      0.05        18\n",
            "        73.0       0.15      0.17      0.16        30\n",
            "        74.0       0.16      0.32      0.21        19\n",
            "        75.0       0.07      0.05      0.06        20\n",
            "        76.0       0.05      0.10      0.07        20\n",
            "        77.0       0.03      0.04      0.03        27\n",
            "        78.0       0.05      0.04      0.04        23\n",
            "        79.0       0.00      0.00      0.00        10\n",
            "        80.0       0.20      0.11      0.14        19\n",
            "        81.0       0.00      0.00      0.00        17\n",
            "        82.0       0.00      0.00      0.00         9\n",
            "        83.0       0.00      0.00      0.00         9\n",
            "        84.0       0.50      0.17      0.25         6\n",
            "        85.0       0.00      0.00      0.00         3\n",
            "        86.0       0.00      0.00      0.00         4\n",
            "        87.0       0.00      0.00      0.00         3\n",
            "        88.0       0.00      0.00      0.00         0\n",
            "        89.0       0.00      0.00      0.00         0\n",
            "        90.0       0.00      0.00      0.00         1\n",
            "        91.0       0.00      0.00      0.00         1\n",
            "\n",
            "    accuracy                           0.08       288\n",
            "   macro avg       0.05      0.04      0.04       288\n",
            "weighted avg       0.07      0.08      0.07       288\n",
            "\n"
          ]
        },
        {
          "output_type": "stream",
          "name": "stderr",
          "text": [
            "/usr/local/lib/python3.11/dist-packages/sklearn/metrics/_classification.py:1565: UndefinedMetricWarning: Precision is ill-defined and being set to 0.0 in labels with no predicted samples. Use `zero_division` parameter to control this behavior.\n",
            "  _warn_prf(average, modifier, f\"{metric.capitalize()} is\", len(result))\n",
            "/usr/local/lib/python3.11/dist-packages/sklearn/metrics/_classification.py:1565: UndefinedMetricWarning: Recall is ill-defined and being set to 0.0 in labels with no true samples. Use `zero_division` parameter to control this behavior.\n",
            "  _warn_prf(average, modifier, f\"{metric.capitalize()} is\", len(result))\n",
            "/usr/local/lib/python3.11/dist-packages/sklearn/metrics/_classification.py:1565: UndefinedMetricWarning: Precision is ill-defined and being set to 0.0 in labels with no predicted samples. Use `zero_division` parameter to control this behavior.\n",
            "  _warn_prf(average, modifier, f\"{metric.capitalize()} is\", len(result))\n",
            "/usr/local/lib/python3.11/dist-packages/sklearn/metrics/_classification.py:1565: UndefinedMetricWarning: Recall is ill-defined and being set to 0.0 in labels with no true samples. Use `zero_division` parameter to control this behavior.\n",
            "  _warn_prf(average, modifier, f\"{metric.capitalize()} is\", len(result))\n",
            "/usr/local/lib/python3.11/dist-packages/sklearn/metrics/_classification.py:1565: UndefinedMetricWarning: Precision is ill-defined and being set to 0.0 in labels with no predicted samples. Use `zero_division` parameter to control this behavior.\n",
            "  _warn_prf(average, modifier, f\"{metric.capitalize()} is\", len(result))\n",
            "/usr/local/lib/python3.11/dist-packages/sklearn/metrics/_classification.py:1565: UndefinedMetricWarning: Recall is ill-defined and being set to 0.0 in labels with no true samples. Use `zero_division` parameter to control this behavior.\n",
            "  _warn_prf(average, modifier, f\"{metric.capitalize()} is\", len(result))\n"
          ]
        }
      ]
    },
    {
      "cell_type": "code",
      "source": [
        "# Decision Tree\n",
        "dtc_model = DecisionTreeClassifier(random_state=42)\n",
        "dtc_model.fit(X_train, y_train)\n",
        "\n",
        "print(\"Decision Tree R^2 score:\", dtc_model.score(X_test, y_test))\n",
        "\n",
        "y_pred_dtc = dtc_model.predict(X_test)\n",
        "\n",
        "# Calculate Accuracy\n",
        "accuracy = accuracy_score(y_test, y_pred_dtc)\n",
        "print(f\"Decision Tree Accuracy: {accuracy}\")\n",
        "\n",
        "# Classification Report\n",
        "print(f\"Classification Report:\\n{classification_report(y_test, y_pred_dtc)}\")"
      ],
      "metadata": {
        "colab": {
          "base_uri": "https://localhost:8080/"
        },
        "id": "tRRrqLY2E_le",
        "outputId": "95b71b7f-422c-4481-caeb-002890d999ac"
      },
      "execution_count": null,
      "outputs": [
        {
          "output_type": "stream",
          "name": "stdout",
          "text": [
            "Decision Tree R^2 score: 0.034722222222222224\n",
            "Decision Tree Accuracy: 0.034722222222222224\n",
            "Classification Report:\n",
            "              precision    recall  f1-score   support\n",
            "\n",
            "        62.0       0.00      0.00      0.00         1\n",
            "        64.0       0.00      0.00      0.00         1\n",
            "        65.0       0.00      0.00      0.00         1\n",
            "        66.0       0.00      0.00      0.00         1\n",
            "        67.0       0.00      0.00      0.00         2\n",
            "        68.0       0.00      0.00      0.00         3\n",
            "        69.0       0.00      0.00      0.00        11\n",
            "        70.0       0.00      0.00      0.00         8\n",
            "        71.0       0.04      0.05      0.04        21\n",
            "        72.0       0.00      0.00      0.00        18\n",
            "        73.0       0.05      0.03      0.04        30\n",
            "        74.0       0.09      0.11      0.10        19\n",
            "        75.0       0.05      0.05      0.05        20\n",
            "        76.0       0.05      0.05      0.05        20\n",
            "        77.0       0.06      0.07      0.07        27\n",
            "        78.0       0.00      0.00      0.00        23\n",
            "        79.0       0.00      0.00      0.00        10\n",
            "        80.0       0.00      0.00      0.00        19\n",
            "        81.0       0.07      0.06      0.06        17\n",
            "        82.0       0.14      0.11      0.12         9\n",
            "        83.0       0.00      0.00      0.00         9\n",
            "        84.0       0.00      0.00      0.00         6\n",
            "        85.0       0.00      0.00      0.00         3\n",
            "        86.0       0.00      0.00      0.00         4\n",
            "        87.0       0.00      0.00      0.00         3\n",
            "        88.0       0.00      0.00      0.00         0\n",
            "        90.0       0.00      0.00      0.00         1\n",
            "        91.0       0.00      0.00      0.00         1\n",
            "\n",
            "    accuracy                           0.03       288\n",
            "   macro avg       0.02      0.02      0.02       288\n",
            "weighted avg       0.04      0.03      0.03       288\n",
            "\n"
          ]
        },
        {
          "output_type": "stream",
          "name": "stderr",
          "text": [
            "/usr/local/lib/python3.11/dist-packages/sklearn/metrics/_classification.py:1565: UndefinedMetricWarning: Precision is ill-defined and being set to 0.0 in labels with no predicted samples. Use `zero_division` parameter to control this behavior.\n",
            "  _warn_prf(average, modifier, f\"{metric.capitalize()} is\", len(result))\n",
            "/usr/local/lib/python3.11/dist-packages/sklearn/metrics/_classification.py:1565: UndefinedMetricWarning: Recall is ill-defined and being set to 0.0 in labels with no true samples. Use `zero_division` parameter to control this behavior.\n",
            "  _warn_prf(average, modifier, f\"{metric.capitalize()} is\", len(result))\n",
            "/usr/local/lib/python3.11/dist-packages/sklearn/metrics/_classification.py:1565: UndefinedMetricWarning: Precision is ill-defined and being set to 0.0 in labels with no predicted samples. Use `zero_division` parameter to control this behavior.\n",
            "  _warn_prf(average, modifier, f\"{metric.capitalize()} is\", len(result))\n",
            "/usr/local/lib/python3.11/dist-packages/sklearn/metrics/_classification.py:1565: UndefinedMetricWarning: Recall is ill-defined and being set to 0.0 in labels with no true samples. Use `zero_division` parameter to control this behavior.\n",
            "  _warn_prf(average, modifier, f\"{metric.capitalize()} is\", len(result))\n",
            "/usr/local/lib/python3.11/dist-packages/sklearn/metrics/_classification.py:1565: UndefinedMetricWarning: Precision is ill-defined and being set to 0.0 in labels with no predicted samples. Use `zero_division` parameter to control this behavior.\n",
            "  _warn_prf(average, modifier, f\"{metric.capitalize()} is\", len(result))\n",
            "/usr/local/lib/python3.11/dist-packages/sklearn/metrics/_classification.py:1565: UndefinedMetricWarning: Recall is ill-defined and being set to 0.0 in labels with no true samples. Use `zero_division` parameter to control this behavior.\n",
            "  _warn_prf(average, modifier, f\"{metric.capitalize()} is\", len(result))\n"
          ]
        }
      ]
    },
    {
      "cell_type": "code",
      "source": [
        "from sklearn.tree import DecisionTreeRegressor\n",
        "\n",
        "# Decision Tree Model\n",
        "dt_model = DecisionTreeRegressor(random_state=42)\n",
        "dt_model.fit(X_train, y_train)\n",
        "\n",
        "# Evaluate\n",
        "print(\"Decision Tree R^2 score:\", dt_model.score(X_test, y_test))"
      ],
      "metadata": {
        "colab": {
          "base_uri": "https://localhost:8080/"
        },
        "id": "WJgouMSOJHWo",
        "outputId": "31dcce07-3e52-426a-9059-e23f803bd51f"
      },
      "execution_count": null,
      "outputs": [
        {
          "output_type": "stream",
          "name": "stdout",
          "text": [
            "Decision Tree R^2 score: -0.8436186363246316\n"
          ]
        }
      ]
    },
    {
      "cell_type": "code",
      "source": [
        "# Regression Model\n",
        "from sklearn.linear_model import LinearRegression\n",
        "\n",
        "# Fit\n",
        "model = LinearRegression()\n",
        "model.fit(X_train, y_train)\n",
        "\n",
        "# Evaluate\n",
        "print(\"R^2 score:\", model.score(X_test, y_test))"
      ],
      "metadata": {
        "colab": {
          "base_uri": "https://localhost:8080/"
        },
        "id": "lIqNEoIVJRnP",
        "outputId": "d28722f3-8c91-4a8b-cbd8-e202cc88e22f"
      },
      "execution_count": null,
      "outputs": [
        {
          "output_type": "stream",
          "name": "stdout",
          "text": [
            "R^2 score: 0.05851683194549484\n"
          ]
        }
      ]
    }
  ]
}